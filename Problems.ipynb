{
 "cells": [
  {
   "cell_type": "code",
   "execution_count": 2,
   "metadata": {},
   "outputs": [
    {
     "name": "stdout",
     "output_type": "stream",
     "text": [
      "Enter a number:6\n",
      "6 is not a prime number\n"
     ]
    }
   ],
   "source": [
    "no=int(input(\"Enter a number:\"))\n",
    "flag=0\n",
    "for i in range(2,(no/2)+1):\n",
    "    if no%i==0:\n",
    "        flag=1\n",
    "        break;\n",
    "if flag==1:\n",
    "    print(\"%d is a composite number\"%no)\n",
    "else:\n",
    "    print(\"%d is a prime number\"%no)\n",
    "    "
   ]
  },
  {
   "cell_type": "code",
   "execution_count": 5,
   "metadata": {},
   "outputs": [
    {
     "name": "stdout",
     "output_type": "stream",
     "text": [
      "Enter the starting number:1\n",
      "Enter the ending number:1635\n",
      "1\n",
      "2\n",
      "3\n",
      "4\n",
      "5\n",
      "6\n",
      "7\n",
      "8\n",
      "9\n",
      "153\n",
      "370\n",
      "371\n",
      "407\n",
      "1634\n"
     ]
    }
   ],
   "source": [
    "r1=int(input(\"Enter the starting number:\"))\n",
    "r2=int(input(\"Enter the ending number:\"))\n",
    "for i in range(r1,r2+1):\n",
    "    no=i\n",
    "    b=len(str(i))\n",
    "    add,c=0,0\n",
    "    while i!=0:\n",
    "        c=i%10\n",
    "        i=int(i/10)\n",
    "        add=add+c**b\n",
    "    if add==no:\n",
    "        print(no)\n",
    "    "
   ]
  },
  {
   "cell_type": "markdown",
   "metadata": {},
   "source": [
    "# Strong number"
   ]
  },
  {
   "cell_type": "code",
   "execution_count": 7,
   "metadata": {},
   "outputs": [
    {
     "name": "stdout",
     "output_type": "stream",
     "text": [
      "Enter the starting number:1\n",
      "Enter the ending number:1000\n",
      "1\n",
      "2\n",
      "145\n"
     ]
    }
   ],
   "source": [
    "r1=int(input(\"Enter the starting number:\"))\n",
    "r2=int(input(\"Enter the ending number:\"))\n",
    "for i in range(r1,r2+1):\n",
    "    no=i\n",
    "    fact,add,c=1,0,0\n",
    "    while i!=0:\n",
    "        c=i%10\n",
    "        i=int(i/10)\n",
    "        for x in range(1,c+1):\n",
    "            fact=fact*x\n",
    "        add=add+fact\n",
    "        fact=1\n",
    "    if add==no:\n",
    "        print(no)"
   ]
  },
  {
   "cell_type": "code",
   "execution_count": 8,
   "metadata": {},
   "outputs": [
    {
     "name": "stdout",
     "output_type": "stream",
     "text": [
      "Enter 1st angle of the triangle:10\n",
      "Enter 2nd angle of the triangle:20\n",
      "Enter 3rd angle of the triangle:10\n",
      "The triangle is an isomorphic triangle \n"
     ]
    }
   ],
   "source": [
    "a=int(input(\"Enter 1st angle of the triangle:\"))\n",
    "b=int(input(\"Enter 2nd angle of the triangle:\"))\n",
    "c=int(input(\"Enter 3rd angle of the triangle:\"))\n",
    "if a==b and a!=c:\n",
    "    print(\"The triangle is an isomorphic triangle \")\n",
    "elif a==c and a!=b:\n",
    "    print(\"The triangle is an isomorphic triangle \")\n",
    "elif b==c and b!=a:\n",
    "    print(\"The triangle is an isomorphic triangle \")\n",
    "else:\n",
    "    print(\"The triangle is not an isomorphic triangle \")"
   ]
  },
  {
   "cell_type": "code",
   "execution_count": 11,
   "metadata": {},
   "outputs": [
    {
     "name": "stdout",
     "output_type": "stream",
     "text": [
      "In between  1 and 100 number of even and odd are same\n"
     ]
    }
   ],
   "source": [
    "odd,even=0,0\n",
    "for i in range(1,101):\n",
    "    if i%2==0:\n",
    "        even+=1\n",
    "    else:\n",
    "        odd+=1\n",
    "if even>odd:\n",
    "    print(\"In between  1 and 100 maximum number are even\")\n",
    "elif odd>even:\n",
    "    print(\"In between  1 and 100 maximum number are odd\")\n",
    "else:\n",
    "    print(\"In between  1 and 100 number of even and odd are same\")\n",
    "    "
   ]
  },
  {
   "cell_type": "code",
   "execution_count": 12,
   "metadata": {},
   "outputs": [
    {
     "name": "stdout",
     "output_type": "stream",
     "text": [
      "Enter 1st diagonal of rhombus:10\n",
      "Enter 2nd diagonal of rhombus:20\n",
      "Area of the rhombus: 100.0\n"
     ]
    }
   ],
   "source": [
    "p=int(input(\"Enter 1st diagonal of rhombus:\"))\n",
    "q=int(input(\"Enter 2nd diagonal of rhombus:\"))\n",
    "area=(p*q)/2\n",
    "print(\"Area of the rhombus:\",area)\n"
   ]
  },
  {
   "cell_type": "code",
   "execution_count": 13,
   "metadata": {},
   "outputs": [
    {
     "name": "stdout",
     "output_type": "stream",
     "text": [
      "Enter the radius of a circle:10\n",
      "Area of the circle is = 314.0\n",
      "Perimeter of the circle is = 62.800000000000004\n"
     ]
    }
   ],
   "source": [
    "r=int(input(\"Enter the radius of a circle:\"))\n",
    "area=(3.14)*(r**2)\n",
    "perimeter=2*(3.14)*r\n",
    "print(\"Area of the circle is =\",area)\n",
    "print(\"Perimeter of the circle is =\",perimeter)\n"
   ]
  },
  {
   "cell_type": "code",
   "execution_count": 15,
   "metadata": {},
   "outputs": [
    {
     "name": "stdout",
     "output_type": "stream",
     "text": [
      "5\n",
      "6\n",
      "7\n",
      "8\n",
      "9\n"
     ]
    }
   ],
   "source": [
    "for i in range(10):\n",
    "    if i<5:\n",
    "        continue\n",
    "    print(i)"
   ]
  },
  {
   "cell_type": "markdown",
   "metadata": {},
   "source": [
    "nested for loop"
   ]
  },
  {
   "cell_type": "code",
   "execution_count": 20,
   "metadata": {},
   "outputs": [
    {
     "name": "stdout",
     "output_type": "stream",
     "text": [
      "0 0\n",
      "0 1\n",
      "0 2\n",
      "1 0\n",
      "1 1\n",
      "1 2\n",
      "2 0\n",
      "2 1\n",
      "2 2\n"
     ]
    }
   ],
   "source": [
    "for i in range(3):\n",
    "    for j in range(3):\n",
    "        print(i,j)\n",
    "    "
   ]
  },
  {
   "cell_type": "code",
   "execution_count": 21,
   "metadata": {},
   "outputs": [
    {
     "name": "stdout",
     "output_type": "stream",
     "text": [
      "enter row number10\n",
      "* \n",
      "* * \n",
      "* * * \n",
      "* * * * \n",
      "* * * * * \n",
      "* * * * * * \n",
      "* * * * * * * \n",
      "* * * * * * * * \n",
      "* * * * * * * * * \n",
      "* * * * * * * * * * \n"
     ]
    }
   ],
   "source": [
    "n=int(input(\"enter row number\"))\n",
    "for row in range(1,n+1):\n",
    "    for col in range(1,row+1):\n",
    "        print(\"*\",end=\" \")\n",
    "    print()"
   ]
  },
  {
   "cell_type": "code",
   "execution_count": 22,
   "metadata": {},
   "outputs": [
    {
     "name": "stdout",
     "output_type": "stream",
     "text": [
      " ** ** \n",
      "*  *  *\n",
      "*     *\n",
      " *   * \n",
      "  * *  \n",
      "   *   \n"
     ]
    }
   ],
   "source": [
    "for row in range(6):\n",
    "    for col in range(7):\n",
    "        if (row==0 and col%3!=0) or (row==1 and col%3==0) or (row-col==2)or(row+col==8):\n",
    "            print(\"*\",end=\"\")\n",
    "        else:\n",
    "            print(end=\" \")\n",
    "    print()\n"
   ]
  },
  {
   "cell_type": "code",
   "execution_count": 26,
   "metadata": {},
   "outputs": [
    {
     "name": "stdout",
     "output_type": "stream",
     "text": [
      "    \n",
      "****\n",
      "*  *\n",
      "*  *\n",
      "****\n",
      "*  *\n",
      "*  *\n"
     ]
    }
   ],
   "source": [
    "for row in range(7):\n",
    "    for col in range(4):\n",
    "        if (row==1 and col<=4)or(row==2 and col%3==0)or(row==3 and col%3==0)or(row==4 and col<=4)or(row==5 and col%3==0)or(row==6 and col%3==0):\n",
    "            print(\"*\",end=\"\")\n",
    "        else:\n",
    "            print(end=\" \")\n",
    "    print()"
   ]
  },
  {
   "cell_type": "code",
   "execution_count": null,
   "metadata": {},
   "outputs": [],
   "source": []
  }
 ],
 "metadata": {
  "kernelspec": {
   "display_name": "Python 3",
   "language": "python",
   "name": "python3"
  },
  "language_info": {
   "codemirror_mode": {
    "name": "ipython",
    "version": 3
   },
   "file_extension": ".py",
   "mimetype": "text/x-python",
   "name": "python",
   "nbconvert_exporter": "python",
   "pygments_lexer": "ipython3",
   "version": "3.8.10"
  }
 },
 "nbformat": 4,
 "nbformat_minor": 2
}
