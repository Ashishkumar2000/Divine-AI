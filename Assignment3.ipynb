{
 "cells": [
  {
   "cell_type": "code",
   "execution_count": 1,
   "id": "df021349",
   "metadata": {},
   "outputs": [
    {
     "name": "stdout",
     "output_type": "stream",
     "text": [
      "212\n",
      "35.333333333333336\n"
     ]
    }
   ],
   "source": [
    "def average(nums):\n",
    "    total=0\n",
    "    for i in range(len(nums)):\n",
    "        total+=nums[i]\n",
    "    return(total/len(nums),total)\n",
    "def main():\n",
    "    l=[12,51,25,85,14,25]\n",
    "    result,total=average(l)\n",
    "    print(total)\n",
    "    print(result)\n",
    "main()"
   ]
  },
  {
   "cell_type": "code",
   "execution_count": 2,
   "id": "e169303e",
   "metadata": {},
   "outputs": [
    {
     "name": "stdout",
     "output_type": "stream",
     "text": [
      "Enter ur choice:2\n",
      "198\n"
     ]
    }
   ],
   "source": [
    "#Find th highest element as 1st,2nd,3rd highest\n",
    "def highest(li):\n",
    "    dt={}\n",
    "    for i in range(len(li)):\n",
    "        max,c=0,0\n",
    "        for j in range(i,len(li)):\n",
    "            if li[j]>max:\n",
    "                max=li[j]\n",
    "                c=j\n",
    "        li[c]=li[i]\n",
    "        li[i]=max\n",
    "        dt[i+1]=max \n",
    "    return dt\n",
    "def main():\n",
    "    l1=[10,50,15,42,87,62,198,448]\n",
    "    result=highest(l1)\n",
    "    print(result[int(input('Enter ur choice:'))])\n",
    "main()"
   ]
  },
  {
   "cell_type": "code",
   "execution_count": null,
   "id": "11e95efe",
   "metadata": {},
   "outputs": [],
   "source": []
  }
 ],
 "metadata": {
  "kernelspec": {
   "display_name": "Python 3",
   "language": "python",
   "name": "python3"
  },
  "language_info": {
   "codemirror_mode": {
    "name": "ipython",
    "version": 3
   },
   "file_extension": ".py",
   "mimetype": "text/x-python",
   "name": "python",
   "nbconvert_exporter": "python",
   "pygments_lexer": "ipython3",
   "version": "3.8.10"
  }
 },
 "nbformat": 4,
 "nbformat_minor": 5
}
