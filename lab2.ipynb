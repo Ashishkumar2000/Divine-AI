{
 "cells": [
  {
   "cell_type": "markdown",
   "id": "c7baa16d",
   "metadata": {},
   "source": [
    "# coditional statement"
   ]
  },
  {
   "cell_type": "code",
   "execution_count": 1,
   "id": "fd3e1233",
   "metadata": {},
   "outputs": [
    {
     "name": "stdout",
     "output_type": "stream",
     "text": [
      "Enter the temp:35\n",
      "It is warm\n",
      "Drink water\n",
      "Done\n"
     ]
    }
   ],
   "source": [
    "temperature=int(input(\"Enter the temp:\"))\n",
    "if temperature>30:\n",
    "    print(\"It is warm\")\n",
    "    print('Drink water')\n",
    "print('Done')"
   ]
  },
  {
   "cell_type": "code",
   "execution_count": 2,
   "id": "f0256b04",
   "metadata": {},
   "outputs": [
    {
     "name": "stdout",
     "output_type": "stream",
     "text": [
      "Enter the temp:25\n",
      "It is a nice day\n",
      "Done\n"
     ]
    }
   ],
   "source": [
    "temp=int(input(\"Enter the temp:\"))\n",
    "if temp>30:\n",
    "    print(\"It is warm\")\n",
    "    print('Drink water')\n",
    "elif temp>20:\n",
    "    print('It is a nice day')\n",
    "print('Done')"
   ]
  },
  {
   "cell_type": "markdown",
   "id": "70e5f5ec",
   "metadata": {},
   "source": [
    "# Ternary operator"
   ]
  },
  {
   "cell_type": "code",
   "execution_count": 5,
   "id": "105aae29",
   "metadata": {},
   "outputs": [
    {
     "name": "stdout",
     "output_type": "stream",
     "text": [
      "it is a nice day\n"
     ]
    }
   ],
   "source": [
    "t=25\n",
    "print('it is hot' if t>=30 else 'it is a nice day')"
   ]
  },
  {
   "cell_type": "markdown",
   "id": "bd9292f3",
   "metadata": {},
   "source": [
    "# Logical Operators"
   ]
  },
  {
   "cell_type": "code",
   "execution_count": 6,
   "id": "a6a218bd",
   "metadata": {},
   "outputs": [
    {
     "name": "stdout",
     "output_type": "stream",
     "text": [
      "not eligible for loan\n",
      "it is okay\n"
     ]
    }
   ],
   "source": [
    "high_income=True\n",
    "good_credit=False\n",
    "if high_income and good_credit:\n",
    "    print('eligible for loan')\n",
    "else:\n",
    "    print('not eligible for loan')\n",
    "print('it is okay')"
   ]
  },
  {
   "cell_type": "code",
   "execution_count": 7,
   "id": "0fb8ff4f",
   "metadata": {},
   "outputs": [
    {
     "name": "stdout",
     "output_type": "stream",
     "text": [
      "eligible for loan\n",
      "it is okay\n"
     ]
    }
   ],
   "source": [
    "high_income=True\n",
    "good_credit=False\n",
    "if high_income or good_credit:\n",
    "    print('eligible for loan')\n",
    "else:\n",
    "    print('not eligible for loan')\n",
    "print('it is okay')"
   ]
  },
  {
   "cell_type": "code",
   "execution_count": 8,
   "id": "f752d731",
   "metadata": {},
   "outputs": [
    {
     "name": "stdout",
     "output_type": "stream",
     "text": [
      "Eligible for loan\n"
     ]
    }
   ],
   "source": [
    "high_income=True\n",
    "good_credit=False\n",
    "student=False\n",
    "if not student:\n",
    "    print('Eligible for loan')\n",
    "else:\n",
    "    print('Not eligible for loan')"
   ]
  },
  {
   "cell_type": "code",
   "execution_count": null,
   "id": "1a5905aa",
   "metadata": {},
   "outputs": [],
   "source": []
  }
 ],
 "metadata": {
  "kernelspec": {
   "display_name": "Python 3",
   "language": "python",
   "name": "python3"
  },
  "language_info": {
   "codemirror_mode": {
    "name": "ipython",
    "version": 3
   },
   "file_extension": ".py",
   "mimetype": "text/x-python",
   "name": "python",
   "nbconvert_exporter": "python",
   "pygments_lexer": "ipython3",
   "version": "3.8.10"
  }
 },
 "nbformat": 4,
 "nbformat_minor": 5
}
