{
 "cells": [
  {
   "cell_type": "code",
   "execution_count": 7,
   "id": "cac9b0aa",
   "metadata": {},
   "outputs": [
    {
     "name": "stdout",
     "output_type": "stream",
     "text": [
      "Enter kilometers:3.5\n",
      " 3.50 kilometers is equal to 2.17 miles\n"
     ]
    }
   ],
   "source": [
    "#Python program to convert kilometers to miles\n",
    "k=float(input('Enter kilometers:'))\n",
    "m=k*0.621\n",
    "print(' %.2f kilometers is equal to %.2f miles'%(k,m))"
   ]
  },
  {
   "cell_type": "code",
   "execution_count": 9,
   "id": "952f7ef4",
   "metadata": {},
   "outputs": [
    {
     "name": "stdout",
     "output_type": "stream",
     "text": [
      "Enter celsius:40\n",
      "40.00 celsius is equivalent to: 104.00\n"
     ]
    }
   ],
   "source": [
    "#Python program to convert Celsius to Fahrenheit\n",
    "celsius=float(input('Enter celsius:'))\n",
    "fahrenheit=(celsius*1.8)+32\n",
    "print('%.2f celsius is equivalent to: %.2f'%(celsius,fahrenheit))"
   ]
  },
  {
   "cell_type": "code",
   "execution_count": 16,
   "id": "37890ba9",
   "metadata": {},
   "outputs": [
    {
     "name": "stdout",
     "output_type": "stream",
     "text": [
      "Enter a number:-25\n",
      "The entered number is negative\n"
     ]
    }
   ],
   "source": [
    "n=int(input('Enter a number:'))\n",
    "if n>0: \n",
    "    print('The entered number is positive') \n",
    "elif n<0:\n",
    "    print('The entered number is negative')\n",
    "elif n==0:\n",
    "    print('The number is zero')"
   ]
  },
  {
   "cell_type": "code",
   "execution_count": 18,
   "id": "5ba68a13",
   "metadata": {},
   "outputs": [
    {
     "name": "stdout",
     "output_type": "stream",
     "text": [
      "Enter a number:15\n",
      "The entered number is odd number\n"
     ]
    }
   ],
   "source": [
    "num=int(input('Enter a number:'))\n",
    "if num%2==0:\n",
    "    print('The entered number is even number')\n",
    "else:\n",
    "    print('The entered number is odd number')"
   ]
  },
  {
   "cell_type": "code",
   "execution_count": 23,
   "id": "3708842e",
   "metadata": {},
   "outputs": [
    {
     "name": "stdout",
     "output_type": "stream",
     "text": [
      "Enter year:2004\n",
      "Leap year\n"
     ]
    }
   ],
   "source": [
    "def leapyear(year):\n",
    "    if year%4==0:\n",
    "        if year%100==0:\n",
    "            if year%400==0:\n",
    "                return True\n",
    "            else:\n",
    "                return False\n",
    "        else:\n",
    "            return True\n",
    "    else:\n",
    "        return False\n",
    "year=int(input('Enter year:'))\n",
    "if leapyear(year):\n",
    "    print('Leap year')\n",
    "else:\n",
    "    print('Not a Leap year')"
   ]
  },
  {
   "cell_type": "code",
   "execution_count": 29,
   "id": "85c170e2",
   "metadata": {},
   "outputs": [
    {
     "name": "stdout",
     "output_type": "stream",
     "text": [
      "Enter 1st number:10\n",
      "Enter 2nd number:20\n",
      "Enter 3rd number:30\n",
      "Largest= 30\n"
     ]
    }
   ],
   "source": [
    "#Python program to find largest among 3 numbers\n",
    "a,b,c=int(input('Enter 1st number:')),int(input('Enter 2nd number:')),int(input('Enter 3rd number:'))\n",
    "if a>=b and a>=c:\n",
    "    print('Largest=',a)\n",
    "elif b>=a and b>=c:\n",
    "    print('Largest=',b)\n",
    "else:\n",
    "    print('Largest=',c)\n",
    "    "
   ]
  },
  {
   "cell_type": "code",
   "execution_count": 39,
   "id": "913e450c",
   "metadata": {},
   "outputs": [
    {
     "name": "stdout",
     "output_type": "stream",
     "text": [
      "Enter a number:17\n",
      "17 is a prime number\n"
     ]
    }
   ],
   "source": [
    "#WAP to check if number is prime or not\n",
    "no,count=int(input('Enter a number:')),0\n",
    "if no>1:\n",
    "    for i in range(2,int(no/2)+1):\n",
    "        if no%i==0:\n",
    "            count=1\n",
    "            break\n",
    "    if count==0:\n",
    "        print('%d is a prime number'%no)\n",
    "    else:\n",
    "        print('%d is not a prime number'%no)\n",
    "else:\n",
    "    print('%d is not a prime number'%no)"
   ]
  },
  {
   "cell_type": "code",
   "execution_count": 43,
   "id": "f315cbb3",
   "metadata": {},
   "outputs": [
    {
     "name": "stdout",
     "output_type": "stream",
     "text": [
      "Enter a number:5\n",
      "Factorial= 120\n"
     ]
    }
   ],
   "source": [
    "#Factorial\n",
    "no,fact=int(input('Enter a number:')),1\n",
    "while no>0:\n",
    "    fact*=no\n",
    "    no-=1\n",
    "print('Factorial=',fact)"
   ]
  },
  {
   "cell_type": "code",
   "execution_count": 45,
   "id": "354becd1",
   "metadata": {},
   "outputs": [
    {
     "name": "stdout",
     "output_type": "stream",
     "text": [
      "Enter a number8\n",
      "8*1=8\n",
      "8*2=16\n",
      "8*3=24\n",
      "8*4=32\n",
      "8*5=40\n",
      "8*6=48\n",
      "8*7=56\n",
      "8*8=64\n",
      "8*9=72\n",
      "8*10=80\n"
     ]
    }
   ],
   "source": [
    "#Multiplication table\n",
    "n=int(input('Enter a number'))\n",
    "for i in range(1,11):\n",
    "    print('%d*%d=%d'%(n,i,n*i))"
   ]
  },
  {
   "cell_type": "code",
   "execution_count": 49,
   "id": "50e83071",
   "metadata": {},
   "outputs": [
    {
     "name": "stdout",
     "output_type": "stream",
     "text": [
      "Enter the range:8\n",
      "Fibonacci sequence:\n",
      "0\n",
      "1\n",
      "1\n",
      "2\n",
      "3\n",
      "5\n",
      "8\n",
      "13\n"
     ]
    }
   ],
   "source": [
    "#Fibonacci sequence\n",
    "r=int(input('Enter the range:'))\n",
    "e1,e2=0,1\n",
    "count=0\n",
    "if r<=0:\n",
    "    print('Enter a positive integer')\n",
    "elif r==1:\n",
    "    print(n1)\n",
    "else:\n",
    "    print('Fibonacci sequence:')\n",
    "    while count<r:\n",
    "        print(e1)\n",
    "        n=e1+e2\n",
    "        e1=e2\n",
    "        e2=n\n",
    "        count+=1"
   ]
  },
  {
   "cell_type": "code",
   "execution_count": 65,
   "id": "27534826",
   "metadata": {},
   "outputs": [
    {
     "name": "stdout",
     "output_type": "stream",
     "text": [
      "Enter a number1634\n",
      "256\n",
      "337\n",
      "1633\n",
      "1634\n",
      "The number is an armstrong number\n"
     ]
    }
   ],
   "source": [
    "#Armstrong number\n",
    "no=int(input('Enter a number'))\n",
    "def order(n):\n",
    "    count=0\n",
    "    while n>0:\n",
    "        count+=1\n",
    "        n=n//10\n",
    "    return count\n",
    "l,check,n=order(no),0,no\n",
    "while n>0:\n",
    "    check+=int(n%10)**l\n",
    "    n=int(n/10)\n",
    "if check==no:\n",
    "    print('The number is an armstrong number')\n",
    "else:\n",
    "    print('the number is not an armstrong number')\n"
   ]
  },
  {
   "cell_type": "code",
   "execution_count": 71,
   "id": "1f5ef34a",
   "metadata": {},
   "outputs": [
    {
     "name": "stdout",
     "output_type": "stream",
     "text": [
      "Enter a number:1634\n",
      "sum of the cube of each digit= 308\n"
     ]
    }
   ],
   "source": [
    "#Find the sum of the cube of each digit\n",
    "s,number=0,int(input('Enter a number:'))\n",
    "while number>0:\n",
    "    s+=int(number%10)**3\n",
    "    number=number//10\n",
    "print('sum of the cube of each digit=',s)"
   ]
  },
  {
   "cell_type": "code",
   "execution_count": 28,
   "id": "198de717",
   "metadata": {},
   "outputs": [
    {
     "name": "stdout",
     "output_type": "stream",
     "text": [
      "Enter the starting indx:10\n",
      "Enter the end index:160\n",
      "153\n"
     ]
    }
   ],
   "source": [
    "#Find armstrong number in an interval\n",
    "start,end=int(input('Enter the starting indx:')),int(input('Enter the end index:'))\n",
    "for i in range(start,end+1):\n",
    "    no=i\n",
    "    def order(n):\n",
    "        count=0\n",
    "        while n>0:\n",
    "            count+=1\n",
    "            n=n//10\n",
    "        return count\n",
    "    l,check,n=order(no),0,no\n",
    "    while n>0:\n",
    "        check+=int(n%10)**l\n",
    "        n=int(n/10)\n",
    "    if check==no:\n",
    "        print(check)"
   ]
  },
  {
   "cell_type": "code",
   "execution_count": 5,
   "id": "c091792f",
   "metadata": {},
   "outputs": [
    {
     "name": "stdout",
     "output_type": "stream",
     "text": [
      "Enter range:10\n",
      "The total terms are: 10\n",
      "Powers of 2 Using Anonymous Function 0 is 1\n",
      "Powers of 2 Using Anonymous Function 1 is 2\n",
      "Powers of 2 Using Anonymous Function 2 is 4\n",
      "Powers of 2 Using Anonymous Function 3 is 8\n",
      "Powers of 2 Using Anonymous Function 4 is 16\n",
      "Powers of 2 Using Anonymous Function 5 is 32\n",
      "Powers of 2 Using Anonymous Function 6 is 64\n",
      "Powers of 2 Using Anonymous Function 7 is 128\n",
      "Powers of 2 Using Anonymous Function 8 is 256\n",
      "Powers of 2 Using Anonymous Function 9 is 512\n"
     ]
    }
   ],
   "source": [
    "#Python Program To Display Powers of 2 Using Anonymous Function Display the powers of 2 using anonymous function\n",
    "p= int(input('Enter range:'))\n",
    "res = list(map(lambda x: 2 ** x, range(p)))\n",
    "print(\"The total terms are:\",p)\n",
    "for i in range(p):\n",
    "    print(\"Powers of 2 Using Anonymous Function\",i,\"is\",res[i])"
   ]
  },
  {
   "cell_type": "code",
   "execution_count": null,
   "id": "f36000c5",
   "metadata": {},
   "outputs": [],
   "source": []
  },
  {
   "cell_type": "code",
   "execution_count": 6,
   "id": "9d1dd05c",
   "metadata": {},
   "outputs": [
    {
     "name": "stdout",
     "output_type": "stream",
     "text": [
      "Enter decimal no.: 10\n",
      "Binary No.:  1010\n"
     ]
    }
   ],
   "source": [
    "#Python Program to Convert Decimal to Binary\n",
    "num =int(input(\"Enter decimal no.: \"))\n",
    "print(\"Binary No.: \", bin(num).replace('0b',''))"
   ]
  },
  {
   "cell_type": "code",
   "execution_count": 12,
   "id": "9c7ae0e9",
   "metadata": {},
   "outputs": [
    {
     "name": "stdout",
     "output_type": "stream",
     "text": [
      "Enter decimal no.: 16\n",
      "Hexadecimal No.:  10\n"
     ]
    }
   ],
   "source": [
    "#Python Program to Convert Decimal to Hexadecimal\n",
    "num =int(input(\"Enter decimal no.: \"))\n",
    "print(\"Hexadecimal No.: \", hex(num).replace('0x','')) "
   ]
  },
  {
   "cell_type": "code",
   "execution_count": 14,
   "id": "f4df7f20",
   "metadata": {},
   "outputs": [
    {
     "name": "stdout",
     "output_type": "stream",
     "text": [
      "Enter the character:a\n",
      "ASCII value is  97\n"
     ]
    }
   ],
   "source": [
    "#Python Program to Find ASCII Value of Character\n",
    "c=input('Enter the character:')\n",
    "print('ASCII value is ',ord(c))"
   ]
  },
  {
   "cell_type": "code",
   "execution_count": 16,
   "id": "a89429cb",
   "metadata": {},
   "outputs": [
    {
     "name": "stdout",
     "output_type": "stream",
     "text": [
      "Enter no: 12\n",
      "Enter no: 6\n",
      "The HCF of  12 & 6 is : 6\n"
     ]
    }
   ],
   "source": [
    "#python Program to Find HCF or GCD\n",
    "def HCF(x, y):  \n",
    "    if(x > y):  \n",
    "        small = y  \n",
    "    else:  \n",
    "        small = x  \n",
    "    for i in range(1,small + 1):  \n",
    "         if((x % i == 0) and (y % i == 0)):\n",
    "            hcf=i\n",
    "    return hcf\n",
    "num1 = int(input(\"Enter no: \"))  \n",
    "num2 = int(input(\"Enter no: \"))  \n",
    "print(\"The HCF of \",num1,\"&\",num2,\"is :\", HCF(num1,num2))"
   ]
  },
  {
   "cell_type": "code",
   "execution_count": 17,
   "id": "ff8532b3",
   "metadata": {},
   "outputs": [
    {
     "name": "stdout",
     "output_type": "stream",
     "text": [
      "The HCF is 100\n"
     ]
    }
   ],
   "source": [
    "#Write a python function to find HCf or GCD and return the value using euclidian Algorithm\n",
    "def compute_hcf(x, y):\n",
    "    while(y):\n",
    "        x, y = y, x % y\n",
    "    return x\n",
    "hcf = compute_hcf(1000,300)\n",
    "print(\"The HCF is\", hcf)"
   ]
  },
  {
   "cell_type": "code",
   "execution_count": 18,
   "id": "16d9fe75",
   "metadata": {},
   "outputs": [
    {
     "name": "stdout",
     "output_type": "stream",
     "text": [
      "enter:10\n",
      "enter:20\n",
      "The LCM : 20\n"
     ]
    }
   ],
   "source": [
    "#write a Python function to Find LCM and returb the value\n",
    "def compute_lcm(x, y):\n",
    "    if x > y:\n",
    "        greater = x\n",
    "    else:\n",
    "        greater = y\n",
    "\n",
    "    while(True):\n",
    "        if((greater % x == 0) and (greater % y == 0)):\n",
    "            lcm = greater\n",
    "            break\n",
    "        greater += 1\n",
    "\n",
    "    return lcm\n",
    "\n",
    "num1 = int(input(\"enter:\"))\n",
    "num2 = int(input(\"enter:\"))\n",
    "\n",
    "print(\"The LCM :\", compute_lcm(num1, num2))"
   ]
  },
  {
   "cell_type": "code",
   "execution_count": 19,
   "id": "8c6d3082",
   "metadata": {},
   "outputs": [
    {
     "name": "stdout",
     "output_type": "stream",
     "text": [
      "enter:10\n",
      "enter:20\n",
      "The LCM: 20\n"
     ]
    }
   ],
   "source": [
    "#Python Program to Compute LCM Using GCD \n",
    "def compute_gcd(x, y):\n",
    "    \n",
    "    while(y):\n",
    "        x, y = y, x % y\n",
    "    return x\n",
    "def compute_lcm(x, y):\n",
    "    lcm = (x*y)//compute_gcd(x,y)\n",
    "    return lcm\n",
    "num1 = int(input(\"enter:\"))\n",
    "num2 = int(input(\"enter:\")) \n",
    "print(\"The LCM:\", compute_lcm(num1, num2))"
   ]
  },
  {
   "cell_type": "code",
   "execution_count": 20,
   "id": "44f5b0f2",
   "metadata": {},
   "outputs": [
    {
     "name": "stdout",
     "output_type": "stream",
     "text": [
      "enter :60\n",
      "The factors of 60 are:\n",
      "1\n",
      "2\n",
      "3\n",
      "4\n",
      "5\n",
      "6\n",
      "10\n",
      "12\n",
      "15\n",
      "20\n",
      "30\n",
      "60\n"
     ]
    }
   ],
   "source": [
    "#Python funcction to Find the Factors of a Number\n",
    "def print_factors(x):\n",
    "    print(\"The factors of\",x,\"are:\")\n",
    "    for i in range(1, x + 1):\n",
    "        if(x % i == 0):\n",
    "            print(i)\n",
    "fact= int(input(\"enter :\"))\n",
    "print_factors(fact)"
   ]
  },
  {
   "cell_type": "code",
   "execution_count": 23,
   "id": "244bd3bb",
   "metadata": {},
   "outputs": [
    {
     "name": "stdout",
     "output_type": "stream",
     "text": [
      "Enter ur expression:10+20+30*25/10\n",
      "105.0\n"
     ]
    }
   ],
   "source": [
    "#Python Program to Make a Simple Calculator\n",
    "e=eval(input('Enter ur expression:'))\n",
    "print(e)"
   ]
  },
  {
   "cell_type": "code",
   "execution_count": 24,
   "id": "9fbef28e",
   "metadata": {},
   "outputs": [
    {
     "name": "stdout",
     "output_type": "stream",
     "text": [
      "Select operation.\n",
      "1.Add\n",
      "2.Subtract\n",
      "3.Multiply\n",
      "4.Divide\n",
      "Enter choice(1/2/3/4): 1\n",
      "Enter first number: 125\n",
      "Enter second number: 256\n",
      "125.0 + 256.0 = 381.0\n"
     ]
    }
   ],
   "source": [
    "#Python Program to Make a Simple Calculator\n",
    "def add(x, y):            \n",
    "    return x + y\n",
    "def sub(x, y):      \n",
    "    return x - y\n",
    "def mult(x, y):    \n",
    "    return x * y\n",
    "def div(x, y):         \n",
    "    return x / y\n",
    "print(\"Select operation.\")\n",
    "print(\"1.Add\")\n",
    "print(\"2.Subtract\")\n",
    "print(\"3.Multiply\")\n",
    "print(\"4.Divide\")\n",
    "\n",
    "while True:\n",
    "    \n",
    "    choice = input(\"Enter choice(1/2/3/4): \")\n",
    "    \n",
    "    if choice in ('1', '2', '3', '4'):\n",
    "        \n",
    "        num1 = float(input(\"Enter first number: \"))\n",
    "        num2 = float(input(\"Enter second number: \"))\n",
    "\n",
    "        if choice == '1':\n",
    "            print(num1, \"+\", num2, \"=\", add(num1, num2))\n",
    "\n",
    "        elif choice == '2':\n",
    "            print(num1, \"-\", num2, \"=\", sub(num1, num2))\n",
    "\n",
    "        elif choice == '3':\n",
    "            print(num1, \"*\", num2, \"=\", mult(num1, num2))\n",
    "\n",
    "        elif choice == '4':\n",
    "            print(num1, \"/\", num2, \"=\", div(num1, num2))\n",
    "        break\n",
    "    else:\n",
    "        print(\"Invalid Input\")"
   ]
  },
  {
   "cell_type": "code",
   "execution_count": null,
   "id": "e661cc1e",
   "metadata": {},
   "outputs": [],
   "source": []
  }
 ],
 "metadata": {
  "kernelspec": {
   "display_name": "Python 3",
   "language": "python",
   "name": "python3"
  },
  "language_info": {
   "codemirror_mode": {
    "name": "ipython",
    "version": 3
   },
   "file_extension": ".py",
   "mimetype": "text/x-python",
   "name": "python",
   "nbconvert_exporter": "python",
   "pygments_lexer": "ipython3",
   "version": "3.8.10"
  }
 },
 "nbformat": 4,
 "nbformat_minor": 5
}
