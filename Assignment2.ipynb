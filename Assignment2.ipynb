{
 "cells": [
  {
   "cell_type": "code",
   "execution_count": 1,
   "id": "ad3fcb56",
   "metadata": {},
   "outputs": [
    {
     "name": "stdout",
     "output_type": "stream",
     "text": [
      "Enter a value:5\n",
      "5*1=5\n",
      "5*2=10\n",
      "5*3=15\n",
      "5*4=20\n",
      "5*5=25\n",
      "5*6=30\n",
      "5*7=35\n",
      "5*8=40\n",
      "5*9=45\n",
      "5*10=50\n"
     ]
    }
   ],
   "source": [
    "n=int(input('Enter a value:'))\n",
    "for i in range(1,11):\n",
    "    print('%d*%d=%d'%(n,i,i*n))"
   ]
  },
  {
   "cell_type": "code",
   "execution_count": 2,
   "id": "ed9799be",
   "metadata": {},
   "outputs": [
    {
     "name": "stdout",
     "output_type": "stream",
     "text": [
      "Enter a value:15\n",
      "sum =120\n"
     ]
    }
   ],
   "source": [
    "n=int(input('Enter a value:'))\n",
    "add=0\n",
    "for i in range(1,n+1):\n",
    "    add+=i\n",
    "print('sum =%d'%add)"
   ]
  },
  {
   "cell_type": "code",
   "execution_count": 3,
   "id": "e6ffad21",
   "metadata": {},
   "outputs": [
    {
     "name": "stdout",
     "output_type": "stream",
     "text": [
      "Enter a value:6\n",
      "Factorial of 6 is 720\n"
     ]
    }
   ],
   "source": [
    "num=int(input('Enter a value:'))\n",
    "i,fact=1,1\n",
    "while i<=num:\n",
    "    fact*=i\n",
    "    i+=1\n",
    "print('Factorial of %d is %d'%(num,fact))\n",
    "    "
   ]
  },
  {
   "cell_type": "code",
   "execution_count": 4,
   "id": "0c30b7c8",
   "metadata": {},
   "outputs": [
    {
     "name": "stdout",
     "output_type": "stream",
     "text": [
      "Enter the sales of the month:546832\n",
      "Average sales of the month is 18227.733333\n"
     ]
    }
   ],
   "source": [
    "sales=float(input('Enter the sales of the month:'))\n",
    "average=sales/30\n",
    "print('Average sales of the month is %f'%average)"
   ]
  },
  {
   "cell_type": "code",
   "execution_count": null,
   "id": "d293a107",
   "metadata": {},
   "outputs": [],
   "source": []
  }
 ],
 "metadata": {
  "kernelspec": {
   "display_name": "Python 3",
   "language": "python",
   "name": "python3"
  },
  "language_info": {
   "codemirror_mode": {
    "name": "ipython",
    "version": 3
   },
   "file_extension": ".py",
   "mimetype": "text/x-python",
   "name": "python",
   "nbconvert_exporter": "python",
   "pygments_lexer": "ipython3",
   "version": "3.8.10"
  }
 },
 "nbformat": 4,
 "nbformat_minor": 5
}
