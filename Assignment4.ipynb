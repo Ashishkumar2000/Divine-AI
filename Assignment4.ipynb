{
 "cells": [
  {
   "cell_type": "code",
   "execution_count": 1,
   "id": "6f9ae5e2",
   "metadata": {},
   "outputs": [
    {
     "name": "stdout",
     "output_type": "stream",
     "text": [
      "Enter a number: 100\n",
      "The sum = 5050\n"
     ]
    }
   ],
   "source": [
    "#Python Program to Find the Sum of Natural Numbers\n",
    "n = int(input(\"Enter a number: \"))    \n",
    "if n < 0:  \n",
    "    print(\"Enter a positive number\")  \n",
    "else:  \n",
    "    s = 0    \n",
    "    while(n > 0):  \n",
    "        s += n  \n",
    "        n-= 1  \n",
    "    print(\"The sum =\",s)"
   ]
  },
  {
   "cell_type": "code",
   "execution_count": 2,
   "id": "7201e6dc",
   "metadata": {},
   "outputs": [
    {
     "name": "stdout",
     "output_type": "stream",
     "text": [
      "Enter a number: 100\n",
      "The sum = 5050\n"
     ]
    }
   ],
   "source": [
    "#Python Program to Find the Sum of Natural Numbers\n",
    "n = int(input(\"Enter a number: \"))    \n",
    "if n < 0:  \n",
    "    print(\"Enter a positive number\")  \n",
    "else:    \n",
    "    print(\"The sum =\",int(n*(n+1)/2))"
   ]
  },
  {
   "cell_type": "code",
   "execution_count": 3,
   "id": "5fce1eeb",
   "metadata": {},
   "outputs": [
    {
     "name": "stdout",
     "output_type": "stream",
     "text": [
      "Enter the range:10\n",
      "Fibonacci sequence:\n",
      "0\n",
      "1\n",
      "1\n",
      "2\n",
      "3\n",
      "5\n",
      "8\n",
      "13\n",
      "21\n",
      "34\n"
     ]
    }
   ],
   "source": [
    "#Python Program to Display Fibonacci Sequence Using Recursion\n",
    "def fibonacci(n):\n",
    "    if n <= 1:\n",
    "        return n\n",
    "    else:\n",
    "        return(fibonacci(n-1) + fibonacci(n-2))\n",
    "r=int(input('Enter the range:'))\n",
    "\n",
    "if r <= 0:\n",
    "    print(\"Enter +ve no.:\")\n",
    "else:\n",
    "    print(\"Fibonacci sequence:\")\n",
    "    for i in range(r):\n",
    "        print(fibonacci(i))"
   ]
  },
  {
   "cell_type": "code",
   "execution_count": 4,
   "id": "c533c1ed",
   "metadata": {},
   "outputs": [
    {
     "name": "stdout",
     "output_type": "stream",
     "text": [
      "Enter a element:150\n",
      "Sum= 11325\n"
     ]
    }
   ],
   "source": [
    "#Python Program to Find Sum of Natural Numbers Using Recursion\n",
    "def addition(p):\n",
    "    if p<=1:\n",
    "        return p\n",
    "    else:\n",
    "        return p+addition(p-1)\n",
    "s=int(input('Enter a element:'))\n",
    "if s<0:\n",
    "    print('Enter positive element')\n",
    "else:\n",
    "    print('Sum=',addition(s))"
   ]
  },
  {
   "cell_type": "code",
   "execution_count": 5,
   "id": "2907ae32",
   "metadata": {},
   "outputs": [
    {
     "name": "stdout",
     "output_type": "stream",
     "text": [
      "Enter a number:5\n",
      "Factorial of 5 is 120\n"
     ]
    }
   ],
   "source": [
    "#Python Program to Find Factorial of Number Using Recursion\n",
    "def fact(f):\n",
    "    if f<=1:\n",
    "        return f\n",
    "    else:\n",
    "        return f*fact(f-1)\n",
    "    \n",
    "f=int(input('Enter a number:'))\n",
    "if f<0:\n",
    "    print('Enter a positive number')\n",
    "else:\n",
    "    print('Factorial of %d is %d'%(f,fact(f)))"
   ]
  },
  {
   "cell_type": "code",
   "execution_count": 6,
   "id": "0c054f01",
   "metadata": {},
   "outputs": [
    {
     "name": "stdout",
     "output_type": "stream",
     "text": [
      "[11, 13, 15]\n",
      "[17, 19, 21]\n",
      "[23, 25, 27]\n"
     ]
    }
   ],
   "source": [
    "#Python Program to Add Two Matrices\n",
    "a=[[1,2,3],[4,5,6],[7,8,9]]\n",
    "b=[[10,11,12],[13,14,15],[16,17,18]]\n",
    "r=[[0,0,0],[0,0,0],[0,0,0]]\n",
    "for i in range(len(a)):\n",
    "    for j in range(len(a[0])):\n",
    "        r[i][j]=a[i][j]+b[i][j]\n",
    "for i in r:\n",
    "    print(i)"
   ]
  },
  {
   "cell_type": "code",
   "execution_count": 7,
   "id": "44234b72",
   "metadata": {},
   "outputs": [
    {
     "name": "stdout",
     "output_type": "stream",
     "text": [
      "[11, 13, 15]\n",
      "[17, 19, 21]\n",
      "[23, 25, 27]\n"
     ]
    }
   ],
   "source": [
    "#Python Program to Add Two Matrices using Nested List Comprehension\n",
    "a=[[1,2,3],[4,5,6],[7,8,9]]\n",
    "b=[[10,11,12],[13,14,15],[16,17,18]]\n",
    "r = [[a[i][j] + b[i][j]  for j in range(len(a[0]))] for i in range(len(a))]\n",
    "for k in r:\n",
    "    print(k)"
   ]
  },
  {
   "cell_type": "code",
   "execution_count": 8,
   "id": "8a0daa48",
   "metadata": {},
   "outputs": [
    {
     "name": "stdout",
     "output_type": "stream",
     "text": [
      "[1, 4, 7]\n",
      "[2, 5, 8]\n",
      "[3, 6, 9]\n"
     ]
    }
   ],
   "source": [
    "#Python Program to Transpose a Matrix using Nested Loop\n",
    "a=[[1,2,3],[4,5,6],[7,8,9]]\n",
    "r=[[0,0,0],[0,0,0],[0,0,0]]\n",
    "for i in range(len(a)):\n",
    "    for j in range(len(a[0])):\n",
    "        r[j][i]=a[i][j]\n",
    "            \n",
    "for i in r:\n",
    "    print(i)"
   ]
  },
  {
   "cell_type": "code",
   "execution_count": 9,
   "id": "b6b626bf",
   "metadata": {},
   "outputs": [
    {
     "name": "stdout",
     "output_type": "stream",
     "text": [
      "[1, 4, 7]\n",
      "[2, 5, 8]\n",
      "[3, 6, 9]\n"
     ]
    }
   ],
   "source": [
    "#Python Program to Transpose a Matrix using Nested List Comprehension\n",
    "a=[[1,2,3],[4,5,6],[7,8,9]]\n",
    "r=[[a[j][i] for j in range(len(a))] for i in range(len(a[0]))]\n",
    "for i in r:\n",
    "    print(i)"
   ]
  },
  {
   "cell_type": "code",
   "execution_count": 10,
   "id": "cc151a9b",
   "metadata": {},
   "outputs": [
    {
     "name": "stdout",
     "output_type": "stream",
     "text": [
      "[84, 90, 96]\n",
      "[201, 216, 231]\n",
      "[318, 342, 366]\n"
     ]
    }
   ],
   "source": [
    "#Python Program to Multiply Two Matrices using Nested Loop\n",
    "a=[[1,2,3],[4,5,6],[7,8,9]]\n",
    "b=[[10,11,12],[13,14,15],[16,17,18]]\n",
    "r=[[0,0,0],[0,0,0],[0,0,0]]\n",
    "for i in range (len(a)):\n",
    "    for j in range (len(b[0])):\n",
    "        for k in range(len(b)):\n",
    "            r[i][j]+=a[i][k]*b[k][j]\n",
    "for l in r:\n",
    "     print(l)"
   ]
  },
  {
   "cell_type": "code",
   "execution_count": 11,
   "id": "a2b62a1e",
   "metadata": {},
   "outputs": [
    {
     "name": "stdout",
     "output_type": "stream",
     "text": [
      "Enter a string:ctc\n",
      "String is Palindrome\n"
     ]
    }
   ],
   "source": [
    "#Python Program to Check Whether a String is Palindrome or Not\n",
    "s=input('Enter a string:')\n",
    "reversestr=reversed(s)\n",
    "if list(s)==list(reversestr):\n",
    "    print(\"String is Palindrome\")\n",
    "else:\n",
    "    print(\"String is not a Palindrome\")"
   ]
  },
  {
   "cell_type": "code",
   "execution_count": 12,
   "id": "eb8e4620",
   "metadata": {},
   "outputs": [
    {
     "name": "stdout",
     "output_type": "stream",
     "text": [
      "Enter a string:Ashish\n",
      "String is not a Palindrome\n"
     ]
    }
   ],
   "source": [
    "s1=input('Enter a string:')\n",
    "s2=s1[::-1]\n",
    "if s1==s2:\n",
    "    print(\"String is Palindrome\")\n",
    "else:\n",
    "    print(\"String is not a Palindrome\")"
   ]
  },
  {
   "cell_type": "code",
   "execution_count": 13,
   "id": "de3d7b48",
   "metadata": {},
   "outputs": [
    {
     "name": "stdout",
     "output_type": "stream",
     "text": [
      "Hey this is Ashish\n"
     ]
    }
   ],
   "source": [
    "#Python Program to Remove Punctuations From a String\n",
    "punctuations = '''!()-[]{};:,'\"\\,<>./?@#$%^&*_~'''\n",
    "st1= \"Hey!!!, this is ---Ashish.\"\n",
    "st2= \"\"\n",
    "for i in st1:      \n",
    "    if i not in punctuations:\n",
    "        st2+=i\n",
    "print(st2)"
   ]
  },
  {
   "cell_type": "code",
   "execution_count": 14,
   "id": "5c56675c",
   "metadata": {},
   "outputs": [
    {
     "name": "stdout",
     "output_type": "stream",
     "text": [
      "Sorted words: \n",
      "ashish\n",
      "hey\n",
      "is\n",
      "this\n"
     ]
    }
   ],
   "source": [
    "#Python Program to Sort Words in Alphabetic Order\n",
    "st=\"Hey this is Ashish\"\n",
    "x=[i.lower() for i in st.split()]\n",
    "x.sort()\n",
    "print(\"Sorted words: \")\n",
    "for i in x:\n",
    "    print(i)"
   ]
  },
  {
   "cell_type": "code",
   "execution_count": 1,
   "id": "0279841d",
   "metadata": {},
   "outputs": [
    {
     "name": "stdout",
     "output_type": "stream",
     "text": [
      "Enter a string:Hey Ashish here\n",
      "{'a': 1, 'e': 3, 'i': 1, 'o': 0, 'u': 0}\n"
     ]
    }
   ],
   "source": [
    "#Python Program to Count the Number of Each Vowel\n",
    "vowels='aeiou'\n",
    "c=input('Enter a string:')\n",
    "c=c.casefold() \n",
    "count={}\n",
    "for i in vowels:      \n",
    "    count[i]=c.count(i)\n",
    "print(count)"
   ]
  },
  {
   "cell_type": "code",
   "execution_count": 2,
   "id": "a02ae163",
   "metadata": {},
   "outputs": [
    {
     "name": "stdout",
     "output_type": "stream",
     "text": [
      "Union :  {1, 2, 3, 4, 5, 6, 7, 8}\n",
      "Intersection :  set()\n",
      "Difference :  {1, 2, 3, 4}\n",
      "Symmetric difference :  {1, 2, 3, 4, 5, 6, 7, 8}\n"
     ]
    }
   ],
   "source": [
    "#Python Program to Illustrate Different Set Operations\n",
    "a={1,2,3,4}\n",
    "b={5,6,7,8}\n",
    "print(\"Union : \",a|b)\n",
    "print(\"Intersection : \",a&b)\n",
    "print(\"Difference : \",a-b)\n",
    "print(\"Symmetric difference : \",a^b)"
   ]
  },
  {
   "cell_type": "code",
   "execution_count": 3,
   "id": "243d39ba",
   "metadata": {},
   "outputs": [
    {
     "name": "stdout",
     "output_type": "stream",
     "text": [
      "Enter a string:Ashish here\n",
      "{'a': 1, 'e': 2, 'i': 1, 'o': 0, 'u': 0}\n"
     ]
    }
   ],
   "source": [
    "#Python Program to Count the Number of Each Vowel Using a list and a dictionary comprehension\n",
    "vowels='aeiou'\n",
    "c=input('Enter a string:')\n",
    "c=c.casefold() \n",
    "count={x:sum([1 for char in c if char==x]) for x in vowels}\n",
    "print(count)"
   ]
  },
  {
   "cell_type": "code",
   "execution_count": 4,
   "id": "6b694980",
   "metadata": {},
   "outputs": [
    {
     "name": "stdout",
     "output_type": "stream",
     "text": [
      "Enter a string:Welcome to DivineAI\n",
      "welcom\n",
      "Length of longest substring without repeating a character 6\n"
     ]
    }
   ],
   "source": [
    "#Python Program Given a string, find the length of the longest substring without repeating characters.\n",
    "def LengthOfLongestSubstring(s):\n",
    "    s1,h='',0\n",
    "    for i in range(len(s)):\n",
    "        s1=''\n",
    "        for j in range(i,len(s)):\n",
    "            if s[j] not in s1:\n",
    "                s1=s1+s[j]\n",
    "            else:\n",
    "                break\n",
    "        if len(s1)>h:\n",
    "            h=len(s1)\n",
    "            print(s1)\n",
    "        return h\n",
    "s=input('Enter a string:')\n",
    "s=s.casefold()\n",
    "print('Length of longest substring without repeating a character',LengthOfLongestSubstring(s))"
   ]
  },
  {
   "cell_type": "code",
   "execution_count": 5,
   "id": "75ab5de3",
   "metadata": {},
   "outputs": [
    {
     "name": "stdout",
     "output_type": "stream",
     "text": [
      "[2, 3]\n"
     ]
    }
   ],
   "source": [
    "#Python Program Given an array of integers, return indices of the two numbers such that they add up to a specific target.\n",
    "def twoSum(nums, target): \n",
    "    nummap={}\n",
    "    for i in range(len(nums)):\n",
    "        num=nums[i]\n",
    "        if target-num in nummap:\n",
    "            return [nummap[target-num],i]\n",
    "        nummap[num]=i\n",
    "\n",
    "i,t=[1,2,3,4],7\n",
    "print(twoSum(i,t))"
   ]
  },
  {
   "cell_type": "code",
   "execution_count": 6,
   "id": "23e443ea",
   "metadata": {},
   "outputs": [
    {
     "name": "stdout",
     "output_type": "stream",
     "text": [
      "Array after left rotation is:  [30, 35, 40, 45, 10, 20]\n"
     ]
    }
   ],
   "source": [
    "#Python Program to Rotate an array of n elements to the right by k steps.\n",
    "def rotateArray(arr,n,t):\n",
    "    temp = []\n",
    "    i = 0\n",
    "    while (i < t):\n",
    "        temp.append(arr[i])\n",
    "        i = i + 1\n",
    "    i = 0\n",
    "    while (t < n):\n",
    "        arr[i] = arr[t]\n",
    "        i = i + 1\n",
    "        t = t + 1\n",
    "    arr[:] = arr[: i] + temp\n",
    "    return arr\n",
    "\n",
    "arr = [10,20,30,35,40,45]\n",
    "print(\"Array after left rotation is: \", end=' ')\n",
    "print(rotateArray(arr, len(arr), 2))"
   ]
  },
  {
   "cell_type": "code",
   "execution_count": 7,
   "id": "894d24cd",
   "metadata": {},
   "outputs": [
    {
     "name": "stdout",
     "output_type": "stream",
     "text": [
      "[[10, 20], [30, 40], [50, 60], [70, 88], [90]]\n"
     ]
    }
   ],
   "source": [
    "#Python Program Given a list slice it into a 3 equal chunks and revert each list\n",
    "l=[10, 20, 30, 40, 50,60, 70, 88, 90]\n",
    "n=2\n",
    "l1=[l[i * n:(i + 1) * n] for i in range((len(l) + n - 1) // n )]\n",
    "print(l1)"
   ]
  },
  {
   "cell_type": "code",
   "execution_count": 8,
   "id": "b62f3813",
   "metadata": {},
   "outputs": [
    {
     "name": "stdout",
     "output_type": "stream",
     "text": [
      " Enter a number: 5\n",
      " Enter Exponent Value : 3\n",
      "The Result of 5 Power 3 = 125\n"
     ]
    }
   ],
   "source": [
    "#write a program to calculate exponents of an input\n",
    "num=int(input(\" Enter a number: \"))\n",
    "e=int(input(\" Enter Exponent Value : \"))\n",
    "p=1\n",
    "\n",
    "for i in range(1,e+1):\n",
    "    p=p*num\n",
    "    \n",
    "print(\"The Result of {0} Power {1} = {2}\".format(num, e, p))"
   ]
  },
  {
   "cell_type": "code",
   "execution_count": 9,
   "id": "e2fad291",
   "metadata": {},
   "outputs": [
    {
     "name": "stdout",
     "output_type": "stream",
     "text": [
      "Remainder 2\n"
     ]
    }
   ],
   "source": [
    "def rem(n,i):\n",
    "    return n%i\n",
    "print('Remainder',rem(50,4))"
   ]
  },
  {
   "cell_type": "code",
   "execution_count": 10,
   "id": "8ed16c07",
   "metadata": {},
   "outputs": [
    {
     "name": "stdout",
     "output_type": "stream",
     "text": [
      "Enter a number:56\n",
      "Sum of digits 11\n"
     ]
    }
   ],
   "source": [
    "#Python program to compute sum of digits in number\n",
    "def SumOfDigits(n):\n",
    "    s=0\n",
    "    while n>0: \n",
    "        s+=n%10\n",
    "        n=n//10\n",
    "    return s\n",
    "print('Sum of digits',SumOfDigits(int(input('Enter a number:'))))"
   ]
  },
  {
   "cell_type": "code",
   "execution_count": 11,
   "id": "e74b4162",
   "metadata": {},
   "outputs": [
    {
     "name": "stdout",
     "output_type": "stream",
     "text": [
      "['Banana', 'Cherry', 'Grapes', 'Mango', 'apple']\n"
     ]
    }
   ],
   "source": [
    "#Python program to Sort the list in ascending order\n",
    "s= [\"Mango\",\"Grapes\",\"Cherry\",\"Banana\",\"apple\"]\n",
    "s.sort()\n",
    "print(s)"
   ]
  },
  {
   "cell_type": "code",
   "execution_count": 12,
   "id": "12b133ab",
   "metadata": {},
   "outputs": [
    {
     "name": "stdout",
     "output_type": "stream",
     "text": [
      "['Mango', 'Grapes', 'Cherry', 'Banana', 'Apple']\n"
     ]
    }
   ],
   "source": [
    "#Python program to Sort the list in descending order\n",
    "s= [\"Mango\",\"Grapes\",\"Cherry\",\"Banana\",\"Apple\"]\n",
    "s.sort(reverse=True)\n",
    "print(s)"
   ]
  },
  {
   "cell_type": "code",
   "execution_count": 13,
   "id": "fb13cf09",
   "metadata": {},
   "outputs": [
    {
     "name": "stdout",
     "output_type": "stream",
     "text": [
      "Removed Element: Banana\n"
     ]
    }
   ],
   "source": [
    "#Removes the item at the given index from the list and returns the removed item\n",
    "s= [\"Mango\",\"Grapes\",\"Cherry\",\"Banana\",\"Apple\"]\n",
    "e=s.pop(3)\n",
    "print('Removed Element:',e)"
   ]
  },
  {
   "cell_type": "code",
   "execution_count": 14,
   "id": "e7829932",
   "metadata": {},
   "outputs": [
    {
     "name": "stdout",
     "output_type": "stream",
     "text": [
      "45 present  2  times\n"
     ]
    }
   ],
   "source": [
    "#Returns the number of times the specified element appears in the list\n",
    "l = [1,2,3,45,15,24,45,65,2]\n",
    "count=l.count(45)\n",
    "print('45 present ', count,' times')"
   ]
  },
  {
   "cell_type": "code",
   "execution_count": 15,
   "id": "56bb0c36",
   "metadata": {},
   "outputs": [
    {
     "name": "stdout",
     "output_type": "stream",
     "text": [
      "W\n"
     ]
    }
   ],
   "source": [
    "#access first characters in a string\n",
    "s=\"Welcome to Python\"\n",
    "print(s[0])"
   ]
  },
  {
   "cell_type": "code",
   "execution_count": 16,
   "id": "39367260",
   "metadata": {},
   "outputs": [
    {
     "name": "stdout",
     "output_type": "stream",
     "text": [
      "n\n"
     ]
    }
   ],
   "source": [
    "#access Last characters in a string\n",
    "print(s[-1])"
   ]
  },
  {
   "cell_type": "code",
   "execution_count": 17,
   "id": "e971d5bd",
   "metadata": {},
   "outputs": [
    {
     "name": "stdout",
     "output_type": "stream",
     "text": [
      "n\n"
     ]
    }
   ],
   "source": [
    "print(s[len(s)-1])"
   ]
  },
  {
   "cell_type": "code",
   "execution_count": 18,
   "id": "d274fce6",
   "metadata": {},
   "outputs": [
    {
     "name": "stdout",
     "output_type": "stream",
     "text": [
      "[0, 1, 2, 3, 4, 5, 6, 7, 8, 9]\n"
     ]
    }
   ],
   "source": [
    "#Generate a list by list comprehension\n",
    "l=[]\n",
    "for i in range(10):\n",
    "    l.append(i)\n",
    "print(l)"
   ]
  },
  {
   "cell_type": "code",
   "execution_count": 19,
   "id": "983327e1",
   "metadata": {},
   "outputs": [
    {
     "name": "stdout",
     "output_type": "stream",
     "text": [
      "['MANGO', 'GRAPES', 'CHERRY', 'BANANA', 'APPLE']\n"
     ]
    }
   ],
   "source": [
    "#Set the values in the new list to upper case\n",
    "s= [\"Mango\",\"Grapes\",\"Cherry\",\"Banana\",\"Apple\"]\n",
    "for i in range(len(s)):\n",
    "    s[i]=s[i].upper()\n",
    "print(s)"
   ]
  },
  {
   "cell_type": "code",
   "execution_count": 20,
   "id": "5bf05cd2",
   "metadata": {},
   "outputs": [
    {
     "name": "stdout",
     "output_type": "stream",
     "text": [
      "['Gujurat', 'Karnataka', 'Maharastra', 'Odisha', 'Utterpradesh']\n"
     ]
    }
   ],
   "source": [
    "#Sort the string list alphabetically\n",
    "states=['Odisha','Utterpradesh','Gujurat','Maharastra','Karnataka']\n",
    "states.sort()\n",
    "print(states)"
   ]
  },
  {
   "cell_type": "code",
   "execution_count": 21,
   "id": "363e1089",
   "metadata": {},
   "outputs": [
    {
     "name": "stdout",
     "output_type": "stream",
     "text": [
      "{'abc', 'cjh', 'df', 'vb', 22, 'hj'}\n"
     ]
    }
   ],
   "source": [
    "#join Two Sets\n",
    "a={'abc','vb','cjh'}\n",
    "b={'df',22,'hj'}\n",
    "s=a|b\n",
    "print(s)"
   ]
  },
  {
   "cell_type": "code",
   "execution_count": 22,
   "id": "01a6d7f1",
   "metadata": {},
   "outputs": [
    {
     "name": "stdout",
     "output_type": "stream",
     "text": [
      "Elements present in both sets: set()\n"
     ]
    }
   ],
   "source": [
    "#keep only the items that are present in both sets\n",
    "a={'abc','vb','cjh'}\n",
    "b={'df',22,'hj'}\n",
    "print('Elements present in both sets:',a&b)"
   ]
  },
  {
   "cell_type": "code",
   "execution_count": 23,
   "id": "5dde998e",
   "metadata": {},
   "outputs": [
    {
     "name": "stdout",
     "output_type": "stream",
     "text": [
      "items of the lists except duplicates: {'abc', 'cjh', 'df', 'vb', 'hj', 22}\n"
     ]
    }
   ],
   "source": [
    "#Keep All items from List But NOT the Duplicates\n",
    "a={'abc','vb','cjh'}\n",
    "b={'df',22,'hj'}\n",
    "print('items of the lists except duplicates:',a^b)"
   ]
  },
  {
   "cell_type": "code",
   "execution_count": 24,
   "id": "0adbc40a",
   "metadata": {},
   "outputs": [
    {
     "name": "stdout",
     "output_type": "stream",
     "text": [
      "{'Ashish': 21, 'Ashirbad': 22, 'Ayesh': 20, 'Chinmaya': 21}\n"
     ]
    }
   ],
   "source": [
    "#Create and print a dictionary\n",
    "dt={'Ashish':21,'Ashirbad':22,'Ayesh':20,'Chinmaya':21}\n",
    "print(dt)"
   ]
  },
  {
   "cell_type": "code",
   "execution_count": 33,
   "id": "9b34730d",
   "metadata": {},
   "outputs": [
    {
     "name": "stdout",
     "output_type": "stream",
     "text": [
      "4\n"
     ]
    }
   ],
   "source": [
    "print(len(dt))"
   ]
  }
 ],
 "metadata": {
  "kernelspec": {
   "display_name": "Python 3",
   "language": "python",
   "name": "python3"
  },
  "language_info": {
   "codemirror_mode": {
    "name": "ipython",
    "version": 3
   },
   "file_extension": ".py",
   "mimetype": "text/x-python",
   "name": "python",
   "nbconvert_exporter": "python",
   "pygments_lexer": "ipython3",
   "version": "3.8.10"
  }
 },
 "nbformat": 4,
 "nbformat_minor": 5
}
