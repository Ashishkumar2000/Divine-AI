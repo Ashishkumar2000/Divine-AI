{
 "cells": [
  {
   "cell_type": "markdown",
   "id": "e6cd2bcf",
   "metadata": {},
   "source": [
    "# Short-Circuit Evaluation"
   ]
  },
  {
   "cell_type": "code",
   "execution_count": 1,
   "id": "4e342973",
   "metadata": {},
   "outputs": [
    {
     "name": "stdout",
     "output_type": "stream",
     "text": [
      "Eligible for loan\n"
     ]
    }
   ],
   "source": [
    "high_income=True\n",
    "good_credit=False\n",
    "student=True\n",
    "if high_income or good_credit or not student:\n",
    "    print('Eligible for loan')"
   ]
  },
  {
   "cell_type": "code",
   "execution_count": 5,
   "id": "2918c589",
   "metadata": {},
   "outputs": [
    {
     "name": "stdout",
     "output_type": "stream",
     "text": [
      "Eligible for loan\n"
     ]
    }
   ],
   "source": [
    "high_income=True\n",
    "good_credit=False\n",
    "student=True\n",
    "if high_income and not good_credit and student:\n",
    "    print('Eligible for loan')"
   ]
  },
  {
   "cell_type": "markdown",
   "id": "c54e24f0",
   "metadata": {},
   "source": [
    "# Chaining Comparision Operator"
   ]
  },
  {
   "cell_type": "code",
   "execution_count": 6,
   "id": "89a76724",
   "metadata": {},
   "outputs": [
    {
     "name": "stdout",
     "output_type": "stream",
     "text": [
      "Enter ur age:22\n",
      "Eligible\n"
     ]
    }
   ],
   "source": [
    "age=int(input('Enter ur age:'))\n",
    "if age>=18 and age<65:\n",
    "    print('Eligible')"
   ]
  },
  {
   "cell_type": "code",
   "execution_count": 8,
   "id": "9a9c6bd7",
   "metadata": {},
   "outputs": [
    {
     "name": "stdout",
     "output_type": "stream",
     "text": [
      "Enter ur age:25\n",
      "Eligible\n"
     ]
    }
   ],
   "source": [
    "age=int(input('Enter ur age:'))\n",
    "if 18<=age<65:\n",
    "    print('Eligible')"
   ]
  },
  {
   "cell_type": "code",
   "execution_count": 10,
   "id": "6c13dacb",
   "metadata": {},
   "outputs": [
    {
     "name": "stdout",
     "output_type": "stream",
     "text": [
      "c\n"
     ]
    }
   ],
   "source": [
    "if 10=='10':\n",
    "    print('a')\n",
    "elif 'bag'>'apple' and 'bag'>'cat':\n",
    "    print('b')\n",
    "else:\n",
    "    print('c')"
   ]
  },
  {
   "cell_type": "code",
   "execution_count": 14,
   "id": "4c960d41",
   "metadata": {},
   "outputs": [
    {
     "data": {
      "text/plain": [
       "32"
      ]
     },
     "execution_count": 14,
     "metadata": {},
     "output_type": "execute_result"
    }
   ],
   "source": [
    "ord(' ')"
   ]
  },
  {
   "cell_type": "code",
   "execution_count": 17,
   "id": "b31269f5",
   "metadata": {},
   "outputs": [
    {
     "name": "stdout",
     "output_type": "stream",
     "text": [
      "False\n"
     ]
    }
   ],
   "source": [
    "print('bats'<'')"
   ]
  },
  {
   "cell_type": "code",
   "execution_count": 19,
   "id": "45eef2de",
   "metadata": {},
   "outputs": [
    {
     "name": "stdout",
     "output_type": "stream",
     "text": [
      "attempt\n",
      "successfull\n"
     ]
    }
   ],
   "source": [
    "successful=True\n",
    "for i in range(3):\n",
    "    print('attempt')\n",
    "    if successful:\n",
    "        print('successfull')\n",
    "        break\n",
    "        \n",
    "else:\n",
    "    print('attempt 3 times and fail')"
   ]
  },
  {
   "cell_type": "code",
   "execution_count": 23,
   "id": "d21bf876",
   "metadata": {},
   "outputs": [
    {
     "name": "stdout",
     "output_type": "stream",
     "text": [
      "(0,0)\n",
      "(0,1)\n",
      "(0,2)\n",
      "(1,0)\n",
      "(1,1)\n",
      "(1,2)\n",
      "(2,0)\n",
      "(2,1)\n",
      "(2,2)\n"
     ]
    }
   ],
   "source": [
    "for i in range(3):\n",
    "    for j in range(3):\n",
    "        print(f'({i},{j})')"
   ]
  },
  {
   "cell_type": "code",
   "execution_count": 24,
   "id": "191ff960",
   "metadata": {},
   "outputs": [
    {
     "name": "stdout",
     "output_type": "stream",
     "text": [
      "p\n",
      "y\n",
      "t\n",
      "h\n",
      "o\n",
      "n\n"
     ]
    }
   ],
   "source": [
    "for x in 'python':\n",
    "    print(x)"
   ]
  },
  {
   "cell_type": "code",
   "execution_count": null,
   "id": "f7e759e6",
   "metadata": {},
   "outputs": [],
   "source": []
  }
 ],
 "metadata": {
  "kernelspec": {
   "display_name": "Python 3",
   "language": "python",
   "name": "python3"
  },
  "language_info": {
   "codemirror_mode": {
    "name": "ipython",
    "version": 3
   },
   "file_extension": ".py",
   "mimetype": "text/x-python",
   "name": "python",
   "nbconvert_exporter": "python",
   "pygments_lexer": "ipython3",
   "version": "3.8.10"
  }
 },
 "nbformat": 4,
 "nbformat_minor": 5
}
